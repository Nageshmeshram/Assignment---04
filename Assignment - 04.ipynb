{
 "cells": [
  {
   "cell_type": "code",
   "execution_count": null,
   "id": "c18c0b49",
   "metadata": {},
   "outputs": [],
   "source": [
    "1. What exactly is []?\n",
    "Answer- it is square brackets which is used to declare the list variables"
   ]
  },
  {
   "cell_type": "code",
   "execution_count": null,
   "id": "525e6de9",
   "metadata": {},
   "outputs": [],
   "source": [
    "2. In a list of values stored in a variable called spam, how would you assign the value &#39;hello&#39; as the\n",
    "third value? (Assume [2, 4, 6, 8, 10] are in spam.)\n",
    "Answer- situation is\n",
    "\n",
    "spam = [2,4,6,8,10]\n",
    "spam.extend([\"hello\"]) # we can use extend() funtion \n",
    "spam.append(\"hello\")   # we can also use the append() function"
   ]
  },
  {
   "cell_type": "code",
   "execution_count": 5,
   "id": "1a111b3f",
   "metadata": {},
   "outputs": [],
   "source": [
    "spam = [2,4,6,8,10]\n",
    "spam.extend([\"hello\"])\n",
    "spam.append(\"hello\")"
   ]
  },
  {
   "cell_type": "code",
   "execution_count": 6,
   "id": "4ec180d1",
   "metadata": {},
   "outputs": [
    {
     "data": {
      "text/plain": [
       "[2, 4, 6, 8, 10, 'hello', 'hello']"
      ]
     },
     "execution_count": 6,
     "metadata": {},
     "output_type": "execute_result"
    }
   ],
   "source": [
    "spam"
   ]
  },
  {
   "cell_type": "code",
   "execution_count": 13,
   "id": "36b3c2d5",
   "metadata": {},
   "outputs": [],
   "source": [
    "spam = ['a','b','c','d']"
   ]
  },
  {
   "cell_type": "code",
   "execution_count": null,
   "id": "0d621dcb",
   "metadata": {},
   "outputs": [],
   "source": [
    "3. What is the value of spam[int(int('3'*2)/11)]?"
   ]
  },
  {
   "cell_type": "code",
   "execution_count": 14,
   "id": "50b71b1e",
   "metadata": {},
   "outputs": [
    {
     "data": {
      "text/plain": [
       "'d'"
      ]
     },
     "execution_count": 14,
     "metadata": {},
     "output_type": "execute_result"
    }
   ],
   "source": [
    "spam[int(int('3'*2)/11)]\n",
    "Answer- 'd'"
   ]
  },
  {
   "cell_type": "code",
   "execution_count": null,
   "id": "491278f2",
   "metadata": {},
   "outputs": [],
   "source": [
    "4. What is the value of spam[-1]?\n",
    "Answer- 'd'"
   ]
  },
  {
   "cell_type": "code",
   "execution_count": 15,
   "id": "342f60c5",
   "metadata": {},
   "outputs": [
    {
     "data": {
      "text/plain": [
       "'d'"
      ]
     },
     "execution_count": 15,
     "metadata": {},
     "output_type": "execute_result"
    }
   ],
   "source": [
    "spam[-1]"
   ]
  },
  {
   "cell_type": "code",
   "execution_count": null,
   "id": "07ce934e",
   "metadata": {},
   "outputs": [],
   "source": [
    "5. What is the value of spam[:2]?\n",
    "Answer- ['a', 'b']"
   ]
  },
  {
   "cell_type": "code",
   "execution_count": 16,
   "id": "0cb2e8b1",
   "metadata": {},
   "outputs": [
    {
     "data": {
      "text/plain": [
       "['a', 'b']"
      ]
     },
     "execution_count": 16,
     "metadata": {},
     "output_type": "execute_result"
    }
   ],
   "source": [
    "spam[:2]"
   ]
  },
  {
   "cell_type": "code",
   "execution_count": 17,
   "id": "0cd0fa40",
   "metadata": {},
   "outputs": [],
   "source": [
    "bacon = [3.14,'cat',11,'cat',True]"
   ]
  },
  {
   "cell_type": "code",
   "execution_count": null,
   "id": "332eaf8b",
   "metadata": {},
   "outputs": [],
   "source": [
    "6. What is the value of bacon.index('cat')?\n",
    "Answer-  1 (by default is will take first 'cat' index)"
   ]
  },
  {
   "cell_type": "code",
   "execution_count": 18,
   "id": "7f6df921",
   "metadata": {},
   "outputs": [
    {
     "data": {
      "text/plain": [
       "1"
      ]
     },
     "execution_count": 18,
     "metadata": {},
     "output_type": "execute_result"
    }
   ],
   "source": [
    "bacon.index('cat')"
   ]
  },
  {
   "cell_type": "code",
   "execution_count": null,
   "id": "123a35a5",
   "metadata": {},
   "outputs": [],
   "source": [
    "7. How does bacon.append(99) change the look of the list value in bacon?\n",
    "Answer- it will add the 99 at the end of the list, like following\n",
    "        [3.14, 'cat', 11, 'cat', True, 99]"
   ]
  },
  {
   "cell_type": "code",
   "execution_count": 19,
   "id": "aa3aab25",
   "metadata": {},
   "outputs": [
    {
     "data": {
      "text/plain": [
       "[3.14, 'cat', 11, 'cat', True, 99]"
      ]
     },
     "execution_count": 19,
     "metadata": {},
     "output_type": "execute_result"
    }
   ],
   "source": [
    "bacon.append(99)\n",
    "bacon"
   ]
  },
  {
   "cell_type": "code",
   "execution_count": null,
   "id": "06961ab3",
   "metadata": {},
   "outputs": [],
   "source": [
    "8. How does bacon.remove('cat') change the look of the list in bacon?\n",
    "Answer- it will remove the first 'cat' and the bacon will remain like\n",
    "        [3.14, 11, 'cat', True, 99]"
   ]
  },
  {
   "cell_type": "code",
   "execution_count": 20,
   "id": "513467bb",
   "metadata": {},
   "outputs": [
    {
     "data": {
      "text/plain": [
       "[3.14, 11, 'cat', True, 99]"
      ]
     },
     "execution_count": 20,
     "metadata": {},
     "output_type": "execute_result"
    }
   ],
   "source": [
    "bacon.remove('cat')\n",
    "bacon"
   ]
  },
  {
   "cell_type": "code",
   "execution_count": null,
   "id": "4ac61a6f",
   "metadata": {},
   "outputs": [],
   "source": [
    "9. What are the list concatenation and list replication operators?\n",
    "Answer-     + is the list concatenation operator\n",
    "            * is the list replication operator\n",
    "    following example"
   ]
  },
  {
   "cell_type": "code",
   "execution_count": 26,
   "id": "94186951",
   "metadata": {},
   "outputs": [
    {
     "data": {
      "text/plain": [
       "[1, 2, 3, 10, 20, 30]"
      ]
     },
     "execution_count": 26,
     "metadata": {},
     "output_type": "execute_result"
    }
   ],
   "source": [
    "l=[1,2,3]\n",
    "l1=[10,20,30]\n",
    "l+l1         # + is the list concatenation operator\n"
   ]
  },
  {
   "cell_type": "code",
   "execution_count": 28,
   "id": "9bcc5fcb",
   "metadata": {},
   "outputs": [
    {
     "data": {
      "text/plain": [
       "[1, 2, 3, 1, 2, 3]"
      ]
     },
     "execution_count": 28,
     "metadata": {},
     "output_type": "execute_result"
    }
   ],
   "source": [
    "l*2         #* is the list replication operator"
   ]
  },
  {
   "cell_type": "code",
   "execution_count": 30,
   "id": "94f84f6e",
   "metadata": {},
   "outputs": [
    {
     "ename": "IndentationError",
     "evalue": "unindent does not match any outer indentation level (<tokenize>, line 4)",
     "output_type": "error",
     "traceback": [
      "\u001b[1;36m  File \u001b[1;32m<tokenize>:4\u001b[1;36m\u001b[0m\n\u001b[1;33m    following exmaple\u001b[0m\n\u001b[1;37m    ^\u001b[0m\n\u001b[1;31mIndentationError\u001b[0m\u001b[1;31m:\u001b[0m unindent does not match any outer indentation level\n"
     ]
    }
   ],
   "source": [
    "10. What is difference between the list methods append() and insert()?\n",
    "Answer- append() is by default adding the element at the end of the list,\n",
    "        where as insert(a,b) is adding the element by index wise, it is taking two values first \n",
    "        is index and another is value\n",
    "    following exmaple"
   ]
  },
  {
   "cell_type": "code",
   "execution_count": 37,
   "id": "98ea0726",
   "metadata": {},
   "outputs": [
    {
     "name": "stdout",
     "output_type": "stream",
     "text": [
      "[20, 40, 60, 80, 100]\n"
     ]
    }
   ],
   "source": [
    "l2 = [20,40,60,80]\n",
    "l2.append(100)     # appending 100 at end of the list l2\n",
    "print(l2)\n"
   ]
  },
  {
   "cell_type": "code",
   "execution_count": 38,
   "id": "cb58c1e9",
   "metadata": {},
   "outputs": [
    {
     "data": {
      "text/plain": [
       "[20, 0, 40, 60, 80, 100]"
      ]
     },
     "execution_count": 38,
     "metadata": {},
     "output_type": "execute_result"
    }
   ],
   "source": [
    "l2.insert(1,0)  # at 1 possition inserting 0\n",
    "l2"
   ]
  },
  {
   "cell_type": "code",
   "execution_count": null,
   "id": "078e4358",
   "metadata": {},
   "outputs": [],
   "source": [
    "11. What are the two methods for removing items from a list?\n",
    "Answer-  one is pop() which is removing element index wise \n",
    "         another is remove() which is removing specified element \n",
    "    like example below"
   ]
  },
  {
   "cell_type": "code",
   "execution_count": 39,
   "id": "1fd66e5e",
   "metadata": {},
   "outputs": [
    {
     "data": {
      "text/plain": [
       "[10, 20, 40, 50, 60]"
      ]
     },
     "execution_count": 39,
     "metadata": {},
     "output_type": "execute_result"
    }
   ],
   "source": [
    "l3 = [10,20,30,40,50,60]\n",
    "l3.pop(2)     # it is removing an element at index 2 that is 30\n",
    "l3"
   ]
  },
  {
   "cell_type": "code",
   "execution_count": 40,
   "id": "11e2d3ee",
   "metadata": {},
   "outputs": [
    {
     "data": {
      "text/plain": [
       "[10, 20, 40, 60]"
      ]
     },
     "execution_count": 40,
     "metadata": {},
     "output_type": "execute_result"
    }
   ],
   "source": [
    "l3.remove(50)  # this is removing an element mentiones that is 50\n",
    "l3"
   ]
  },
  {
   "cell_type": "code",
   "execution_count": null,
   "id": "1c68bba9",
   "metadata": {},
   "outputs": [],
   "source": [
    "12. Describe how list values and string values are identical.\n",
    "Answer-both list and str values are assess by indexes like an example"
   ]
  },
  {
   "cell_type": "code",
   "execution_count": 41,
   "id": "0d7ed7d1",
   "metadata": {},
   "outputs": [
    {
     "data": {
      "text/plain": [
       "'norueni'"
      ]
     },
     "execution_count": 41,
     "metadata": {},
     "output_type": "execute_result"
    }
   ],
   "source": [
    "s='ineuron'\n",
    "l=[10,20,30,40,\"hello\",\"hi\"]\n",
    "s[::-1]  # this is working in str to reverse the str"
   ]
  },
  {
   "cell_type": "code",
   "execution_count": 42,
   "id": "e2889273",
   "metadata": {},
   "outputs": [
    {
     "data": {
      "text/plain": [
       "['hi', 'hello', 40, 30, 20, 10]"
      ]
     },
     "execution_count": 42,
     "metadata": {},
     "output_type": "execute_result"
    }
   ],
   "source": [
    "l[::-1]  # this is also work in list too"
   ]
  },
  {
   "cell_type": "code",
   "execution_count": null,
   "id": "3e7ae47d",
   "metadata": {},
   "outputs": [],
   "source": [
    "13. What is the difference between tuples and lists?\n",
    "Answer- tuple is encapsulated in ()\n",
    "        list  is encapsulated in []\n",
    "    tuple dose not support the item assignment operation where as list do"
   ]
  },
  {
   "cell_type": "code",
   "execution_count": null,
   "id": "2da684d8",
   "metadata": {},
   "outputs": [],
   "source": [
    "14. How do you type a tuple value that only contains the integer 42?\n",
    "Answer- t=(42,) comma is mendatory for one element tuple"
   ]
  },
  {
   "cell_type": "code",
   "execution_count": 45,
   "id": "b275e279",
   "metadata": {},
   "outputs": [
    {
     "data": {
      "text/plain": [
       "(42,)"
      ]
     },
     "execution_count": 45,
     "metadata": {},
     "output_type": "execute_result"
    }
   ],
   "source": [
    "t=(42,)\n",
    "t"
   ]
  },
  {
   "cell_type": "code",
   "execution_count": null,
   "id": "0a624c7b",
   "metadata": {},
   "outputs": [],
   "source": [
    "15. How do you get a list values tuple form? How do you get a tuple values list form?\n",
    "Answer- by using list()  and tuple() we can get the list values from tuple and visw versa \n",
    "        as per the following examples"
   ]
  },
  {
   "cell_type": "code",
   "execution_count": 47,
   "id": "85f0abf5",
   "metadata": {},
   "outputs": [
    {
     "data": {
      "text/plain": [
       "[10, 20, 30, 'ineuron', 50]"
      ]
     },
     "execution_count": 47,
     "metadata": {},
     "output_type": "execute_result"
    }
   ],
   "source": [
    "t1=(10,20,30,\"ineuron\",50)\n",
    "list(t1)     # tuple values into list\n"
   ]
  },
  {
   "cell_type": "code",
   "execution_count": 48,
   "id": "6b587044",
   "metadata": {},
   "outputs": [
    {
     "data": {
      "text/plain": [
       "('hi', 'hello', 'ineuron')"
      ]
     },
     "execution_count": 48,
     "metadata": {},
     "output_type": "execute_result"
    }
   ],
   "source": [
    "l1=[\"hi\",\"hello\",\"ineuron\"]\n",
    "tuple(l1)    # list values in tuplke"
   ]
  },
  {
   "cell_type": "code",
   "execution_count": null,
   "id": "d8c26a58",
   "metadata": {},
   "outputs": [],
   "source": [
    "16. Variables that \"contain\" list values are not necessarily lists themselves. Instead, what do they\n",
    "contain?\n",
    "Answer- list can contain the any element like list inside the list, tuple ,dict, int,str, float,set, list can contain all the datatype\n",
    "        variable inside it\n",
    "    "
   ]
  },
  {
   "cell_type": "code",
   "execution_count": 49,
   "id": "b0b408fc",
   "metadata": {},
   "outputs": [],
   "source": [
    "l = [[\"hi\",100],91,{10:1,20:2},(50,60,70),{1,1,1,1,5.8,8,}]"
   ]
  },
  {
   "cell_type": "code",
   "execution_count": null,
   "id": "434c465c",
   "metadata": {},
   "outputs": [],
   "source": [
    "17. How do you distinguish between copy.copy() and copy.deepcopy()?\n",
    "Answer- copy.copy() it is creating the reference to the original object it is not reversive\n",
    "        copy.deepcopy() it is creats the new object and does real copying of original object to new one and it is reversive"
   ]
  }
 ],
 "metadata": {
  "kernelspec": {
   "display_name": "Python 3 (ipykernel)",
   "language": "python",
   "name": "python3"
  },
  "language_info": {
   "codemirror_mode": {
    "name": "ipython",
    "version": 3
   },
   "file_extension": ".py",
   "mimetype": "text/x-python",
   "name": "python",
   "nbconvert_exporter": "python",
   "pygments_lexer": "ipython3",
   "version": "3.9.12"
  }
 },
 "nbformat": 4,
 "nbformat_minor": 5
}
